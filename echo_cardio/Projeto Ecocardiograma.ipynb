{
 "cells": [
  {
   "cell_type": "markdown",
   "metadata": {},
   "source": [
    "# Projeto de Nanodegree em Machine Learning\n",
    "\n",
    "## Análise de dados de ecocardiograma\n",
    "- https://archive.ics.uci.edu/ml/datasets/Echocardiogram"
   ]
  },
  {
   "cell_type": "code",
   "execution_count": 871,
   "metadata": {
    "collapsed": true
   },
   "outputs": [],
   "source": [
    "import pandas as pd\n",
    "import numpy as np\n",
    "from __future__ import unicode_literals\n",
    "import matplotlib.pyplot as plt\n",
    "from matplotlib.ticker import MaxNLocator\n",
    "from collections import Counter\n",
    "from sklearn.model_selection import train_test_split\n",
    "from time import time\n",
    "\n",
    "%matplotlib inline"
   ]
  },
  {
   "cell_type": "code",
   "execution_count": 872,
   "metadata": {},
   "outputs": [
    {
     "name": "stdout",
     "output_type": "stream",
     "text": [
      "rodou!\n"
     ]
    }
   ],
   "source": [
    "echo_data = pd.read_csv(\"echo.csv\", na_values='?')\n",
    "echo_data = pd.DataFrame(echo_data, index=echo_data.index)\n",
    "print \"rodou!\" # Test ok\n"
   ]
  },
  {
   "cell_type": "markdown",
   "metadata": {},
   "source": [
    "### Amostra de Dados iniciais"
   ]
  },
  {
   "cell_type": "code",
   "execution_count": 873,
   "metadata": {},
   "outputs": [
    {
     "data": {
      "text/html": [
       "<div>\n",
       "<style>\n",
       "    .dataframe thead tr:only-child th {\n",
       "        text-align: right;\n",
       "    }\n",
       "\n",
       "    .dataframe thead th {\n",
       "        text-align: left;\n",
       "    }\n",
       "\n",
       "    .dataframe tbody tr th {\n",
       "        vertical-align: top;\n",
       "    }\n",
       "</style>\n",
       "<table border=\"1\" class=\"dataframe\">\n",
       "  <thead>\n",
       "    <tr style=\"text-align: right;\">\n",
       "      <th></th>\n",
       "      <th>survival</th>\n",
       "      <th>still-alive</th>\n",
       "      <th>age-at-heart-attack</th>\n",
       "      <th>pericardial-effusion</th>\n",
       "      <th>fractional-shortening</th>\n",
       "      <th>epss</th>\n",
       "      <th>lvdd</th>\n",
       "      <th>wall-motion-score</th>\n",
       "      <th>wall-motion-index</th>\n",
       "      <th>mult</th>\n",
       "      <th>name</th>\n",
       "      <th>group</th>\n",
       "      <th>alive-at-1</th>\n",
       "    </tr>\n",
       "  </thead>\n",
       "  <tbody>\n",
       "    <tr>\n",
       "      <th>0</th>\n",
       "      <td>11.0</td>\n",
       "      <td>0.0</td>\n",
       "      <td>71.0</td>\n",
       "      <td>0.0</td>\n",
       "      <td>0.260</td>\n",
       "      <td>9.000</td>\n",
       "      <td>4.600</td>\n",
       "      <td>14.0</td>\n",
       "      <td>1.00</td>\n",
       "      <td>1.000</td>\n",
       "      <td>name</td>\n",
       "      <td>1.0</td>\n",
       "      <td>0.0</td>\n",
       "    </tr>\n",
       "    <tr>\n",
       "      <th>1</th>\n",
       "      <td>19.0</td>\n",
       "      <td>0.0</td>\n",
       "      <td>72.0</td>\n",
       "      <td>0.0</td>\n",
       "      <td>0.380</td>\n",
       "      <td>6.000</td>\n",
       "      <td>4.100</td>\n",
       "      <td>14.0</td>\n",
       "      <td>1.70</td>\n",
       "      <td>0.588</td>\n",
       "      <td>name</td>\n",
       "      <td>1.0</td>\n",
       "      <td>0.0</td>\n",
       "    </tr>\n",
       "    <tr>\n",
       "      <th>2</th>\n",
       "      <td>16.0</td>\n",
       "      <td>0.0</td>\n",
       "      <td>55.0</td>\n",
       "      <td>0.0</td>\n",
       "      <td>0.260</td>\n",
       "      <td>4.000</td>\n",
       "      <td>3.420</td>\n",
       "      <td>14.0</td>\n",
       "      <td>1.00</td>\n",
       "      <td>1.000</td>\n",
       "      <td>name</td>\n",
       "      <td>1.0</td>\n",
       "      <td>0.0</td>\n",
       "    </tr>\n",
       "    <tr>\n",
       "      <th>3</th>\n",
       "      <td>57.0</td>\n",
       "      <td>0.0</td>\n",
       "      <td>60.0</td>\n",
       "      <td>0.0</td>\n",
       "      <td>0.253</td>\n",
       "      <td>12.062</td>\n",
       "      <td>4.603</td>\n",
       "      <td>16.0</td>\n",
       "      <td>1.45</td>\n",
       "      <td>0.788</td>\n",
       "      <td>name</td>\n",
       "      <td>1.0</td>\n",
       "      <td>0.0</td>\n",
       "    </tr>\n",
       "    <tr>\n",
       "      <th>4</th>\n",
       "      <td>19.0</td>\n",
       "      <td>1.0</td>\n",
       "      <td>57.0</td>\n",
       "      <td>0.0</td>\n",
       "      <td>0.160</td>\n",
       "      <td>22.000</td>\n",
       "      <td>5.750</td>\n",
       "      <td>18.0</td>\n",
       "      <td>2.25</td>\n",
       "      <td>0.571</td>\n",
       "      <td>name</td>\n",
       "      <td>1.0</td>\n",
       "      <td>0.0</td>\n",
       "    </tr>\n",
       "  </tbody>\n",
       "</table>\n",
       "</div>"
      ],
      "text/plain": [
       "   survival  still-alive  age-at-heart-attack  pericardial-effusion  \\\n",
       "0      11.0          0.0                 71.0                   0.0   \n",
       "1      19.0          0.0                 72.0                   0.0   \n",
       "2      16.0          0.0                 55.0                   0.0   \n",
       "3      57.0          0.0                 60.0                   0.0   \n",
       "4      19.0          1.0                 57.0                   0.0   \n",
       "\n",
       "   fractional-shortening    epss   lvdd  wall-motion-score  wall-motion-index  \\\n",
       "0                  0.260   9.000  4.600               14.0               1.00   \n",
       "1                  0.380   6.000  4.100               14.0               1.70   \n",
       "2                  0.260   4.000  3.420               14.0               1.00   \n",
       "3                  0.253  12.062  4.603               16.0               1.45   \n",
       "4                  0.160  22.000  5.750               18.0               2.25   \n",
       "\n",
       "    mult  name  group  alive-at-1  \n",
       "0  1.000  name    1.0         0.0  \n",
       "1  0.588  name    1.0         0.0  \n",
       "2  1.000  name    1.0         0.0  \n",
       "3  0.788  name    1.0         0.0  \n",
       "4  0.571  name    1.0         0.0  "
      ]
     },
     "metadata": {},
     "output_type": "display_data"
    }
   ],
   "source": [
    "display(echo_data.head())\n",
    "#display(echo_data)"
   ]
  },
  {
   "cell_type": "markdown",
   "metadata": {},
   "source": [
    "### Formatando os dados\n",
    "\n",
    "Estou removendo caracteres inválidos do dataset.\n",
    "\n",
    "Também estou removendo alguns valores incoerentes dele também, como:\n",
    "\n",
    "- Removi valores zerados na coluna 'age at heart attack', ou, idade do ataque cardiaco, já que, provavelmente, nenhum dado de recém-nascido foi utilizado aqui;\n",
    "\n",
    "- Por questões éticas, vamos remover a coluna 'name' também;\n",
    "\n",
    "- De acordo com informações do dataset no site da UCI, as colunas 'mult' e 'group' também não são necessárias para nós.\n",
    "\n",
    "#### Por questões de teste de credibilidade da database, fiz 2 arquivos de data, o data_format e o data_format limpo:\n",
    "\n",
    "- data_format: removi as 3 colunas desnecessárias e os itens no qual o age-at-heart-attack estava zero;\n",
    "\n",
    "- data_format_limpo: removi as 3 colunas desnecessárias e todos os itens que estavam com valores inválidos (NaN)\n"
   ]
  },
  {
   "cell_type": "code",
   "execution_count": 874,
   "metadata": {},
   "outputs": [
    {
     "name": "stdout",
     "output_type": "stream",
     "text": [
      "data format : 127\n",
      "data format limpo: 61\n"
     ]
    }
   ],
   "source": [
    "data_format = echo_data.drop(['name', 'mult', 'group'], axis= 1)\n",
    "data_format = data_format.replace(np.nan, '0')\n",
    "data_format = data_format.drop(data_format[data_format['age-at-heart-attack'] == '0'].index)\n",
    "print \"data format : {}\".format(len(data_format))\n",
    "\n",
    "data_format_limpo = echo_data.drop(['name', 'mult', 'group'], axis= 1)\n",
    "data_format_limpo = data_format_limpo.dropna(axis=0, how='any')\n",
    "print \"data format limpo: {}\".format(len(data_format_limpo))"
   ]
  },
  {
   "cell_type": "markdown",
   "metadata": {},
   "source": [
    "### Preparar dados estatísticos do dataset"
   ]
  },
  {
   "cell_type": "code",
   "execution_count": 875,
   "metadata": {},
   "outputs": [],
   "source": [
    "def dadosPacientes(dataset): \n",
    "    # TODO: Calculate number of students\n",
    "    numero_pacientes = dataset.shape[0]\n",
    "\n",
    "    # Número de parametros (removendo também a coluna-alvo)\n",
    "    numero_parametros = dataset.shape[1] - 1  \n",
    "\n",
    "    # Número de pacientes sobreviventes ao primeiro ano após o ataque cardíaco\n",
    "    numero_sobreviventes = len(dataset.loc[dataset['alive-at-1'] == 1])\n",
    "\n",
    "    # Número de pacientes falecidos no primeiro ano após o ataque cardíaco\n",
    "    numero_obitos = len(dataset.loc[dataset['alive-at-1'] == 0])\n",
    "\n",
    "    # TODO: Calculate graduation rate\n",
    "    #grad_rate = float(n_passed) / n_students * 100\n",
    "    # Porcentagem de óbitos no primeiro ano após um ataque cardíaco\n",
    "    porcentagem_obito = float(numero_sobreviventes) / numero_pacientes * 100\n",
    "\n",
    "    # Print the results\n",
    "    print \"Número total de pacientes da triagem: {}\".format(numero_pacientes)\n",
    "    print \"Número total de parametros: {}\".format(numero_parametros)\n",
    "    print \"Número de pacientes sobreviventes ao primeiro ano após o ataque cardíaco: {}\".format(numero_sobreviventes)\n",
    "    print \"Número de pacientes falecidos ao primeiro ano após o ataque cardíaco: {}\".format(numero_obitos)\n",
    "    print \"Porcentagem de sobrevivência após ter passado um ano de um ataque cardíaco: {:.2f}%\".format(porcentagem_obito)\n"
   ]
  },
  {
   "cell_type": "markdown",
   "metadata": {},
   "source": [
    "### Estatísticas sobre os dados do dataset"
   ]
  },
  {
   "cell_type": "code",
   "execution_count": 876,
   "metadata": {},
   "outputs": [
    {
     "name": "stdout",
     "output_type": "stream",
     "text": [
      "Número total de pacientes da triagem: 61\n",
      "Número total de parametros: 9\n",
      "Número de pacientes sobreviventes ao primeiro ano após o ataque cardíaco: 17\n",
      "Número de pacientes falecidos ao primeiro ano após o ataque cardíaco: 44\n",
      "Porcentagem de sobrevivência após ter passado um ano de um ataque cardíaco: 27.87%\n"
     ]
    }
   ],
   "source": [
    "#dadosPacientes(data_format)\n",
    "dadosPacientes(data_format_limpo)"
   ]
  },
  {
   "cell_type": "markdown",
   "metadata": {},
   "source": [
    "Como vemos nos valores acima, de um total de 61 pacientes, apenas 17 sobrevivem à um ano após um ataque cardíaco, isto é, 28% do total, e é este valor que precisamos aumentar.\n",
    "\n",
    "Uma forma melhor de enxergar quem são essas pessoas, é analisar em que faixa etária elas se encontram ou encontravam, no momento em que sofreram o ataque.\n",
    "\n",
    "Para isso, uma nova análise será feita abaixo:"
   ]
  },
  {
   "cell_type": "markdown",
   "metadata": {},
   "source": [
    "### Preparando dados para a listagem de pessoas sobreviventes e falecidas"
   ]
  },
  {
   "cell_type": "code",
   "execution_count": 877,
   "metadata": {},
   "outputs": [],
   "source": [
    "def plotearSobreviventesFalecidos(dataset):\n",
    "\n",
    "    indexPlot = dataset['age-at-heart-attack'].unique().astype(int)\n",
    "    indexPlot = np.array(indexPlot)\n",
    "    indexPlot.sort(axis=0)\n",
    "\n",
    "    counter_vivo = Counter()\n",
    "    counter_obito = Counter()\n",
    "   \n",
    "    for i in  list(dataset.index):\n",
    "        idade = int(dataset['age-at-heart-attack'][i])\n",
    "        sobreviveu = int(dataset['alive-at-1'][i])\n",
    "\n",
    "        if sobreviveu == 1 :\n",
    "            valor_counter_vivo = 1  \n",
    "            valor_counter_obito = 0\n",
    "        else :\n",
    "            valor_counter_vivo = 0  \n",
    "            valor_counter_obito = 1\n",
    "\n",
    "        counter_vivo[idade] += valor_counter_vivo\n",
    "        counter_obito[idade] += valor_counter_obito\n",
    "\n",
    "    listVivo = counter_vivo.values()\n",
    "    listobito = counter_obito.values()\n",
    "\n",
    "    n_groups = len(indexPlot)\n",
    "\n",
    "    fig, ax = plt.subplots()\n",
    "\n",
    "    index = np.arange(n_groups)\n",
    "\n",
    "    bar_width = 0.35\n",
    "\n",
    "    opacity = 0.4\n",
    "\n",
    "    rects1 = ax.bar(index, listVivo, bar_width, alpha=opacity, color='green',                \n",
    "                    label='Sobrevivente')\n",
    "\n",
    "    rects2 = ax.bar(index + bar_width, listobito, bar_width, alpha=opacity, color='purple',               \n",
    "                    label='óbito')\n",
    "\n",
    "    \n",
    "    ax.set_xlabel('Idades')\n",
    "    ax.set_ylabel('Quantidade de pessoas')\n",
    "    ax.set_title('Gráfico de situação de um ano após um ataque cardíaco')\n",
    "    ax.set_xticks(index + bar_width / 2)\n",
    "    \n",
    "    ax.set_xticklabels(indexPlot)\n",
    "    ax.legend()\n",
    "    \n",
    "    ax.yaxis.set_major_locator(MaxNLocator(integer=True))\n",
    "    fig.tight_layout()\n",
    "    plt.rcParams[\"figure.figsize\"] = [16,9]\n",
    "    plt.show()      \n"
   ]
  },
  {
   "cell_type": "markdown",
   "metadata": {},
   "source": [
    "### Gráfico de dados entre sobreviventes e óbitos após um ano de ataque cardíaco"
   ]
  },
  {
   "cell_type": "code",
   "execution_count": 879,
   "metadata": {},
   "outputs": [
    {
     "data": {
      "image/png": "[encoded data removed]",
      "text/plain": [
       "<matplotlib.figure.Figure at 0x7f4fe707df90>"
      ]
     },
     "metadata": {},
     "output_type": "display_data"
    }
   ],
   "source": [
    "#plotearSobreviventesFalecidos(data_format)\n",
    "plotearSobreviventesFalecidos(data_format_limpo)"
   ]
  },
  {
   "cell_type": "markdown",
   "metadata": {},
   "source": [
    "## Preparando dados para os modelos de predição\n",
    "\n"
   ]
  },
  {
   "cell_type": "code",
   "execution_count": 880,
   "metadata": {},
   "outputs": [
    {
     "name": "stdout",
     "output_type": "stream",
     "text": [
      "atributos do dataset: ['survival', 'still-alive', 'age-at-heart-attack', 'pericardial-effusion', 'fractional-shortening', 'epss', 'lvdd', 'wall-motion-score', 'wall-motion-index']\n",
      "coluna-alvo: ['alive-at-1']\n"
     ]
    }
   ],
   "source": [
    "dataset = data_format_limpo\n",
    "\n",
    "index_teste = 2\n",
    "#item de teste\n",
    "teste_item = dataset.loc[index_teste]\n",
    "teste_item = teste_item.drop('alive-at-1')\n",
    "dataset = dataset.drop([index_teste])\n",
    "\n",
    "# Extract feature columns\n",
    "colunaAtributos = list(dataset.columns[:9])\n",
    "colunaLabel = list(dataset.columns[9:])\n",
    "\n",
    "print 'atributos do dataset: {}'.format(colunaAtributos)\n",
    "print 'coluna-alvo: {}'.format(colunaLabel)\n",
    "\n",
    "X_all = dataset[colunaAtributos]\n",
    "y_all = dataset[colunaLabel]\n"
   ]
  },
  {
   "cell_type": "code",
   "execution_count": 892,
   "metadata": {},
   "outputs": [
    {
     "name": "stdout",
     "output_type": "stream",
     "text": [
      "Training set has 40 samples.\n",
      "Testing set has 20 samples.\n"
     ]
    }
   ],
   "source": [
    "# TODO: Set the number of training points\n",
    "num_train = 40\n",
    "\n",
    "# Set the number of testing points\n",
    "num_test = X_all.shape[0] - num_train\n",
    "\n",
    "# TODO: Shuffle and split the dataset into the number of training and testing points above\n",
    "X_train, X_test, y_train, y_test = train_test_split(X_all, y_all, train_size=num_train, random_state=23)\n",
    "\n",
    "# Show the results of the split\n",
    "print \"Training set has {} samples.\".format(X_train.shape[0])\n",
    "print \"Testing set has {} samples.\".format(X_test.shape[0])"
   ]
  },
  {
   "cell_type": "code",
   "execution_count": 893,
   "metadata": {},
   "outputs": [],
   "source": [
    "\n",
    "from sklearn.svm import SVC\n",
    "clf = SVC(random_state=23)\n",
    "#clf.fit(X_train, y_train) \n",
    "\n",
    "#clf.predict(X=teste_item)\n"
   ]
  },
  {
   "cell_type": "code",
   "execution_count": 894,
   "metadata": {},
   "outputs": [],
   "source": [
    "clf.fit(X_train, y_train)\n",
    "y_pred = clf.predict(X_train)\n",
    "\n",
    "    \n",
    "#print y_pred\n",
    "#print y_test"
   ]
  },
  {
   "cell_type": "code",
   "execution_count": 895,
   "metadata": {},
   "outputs": [
    {
     "name": "stdout",
     "output_type": "stream",
     "text": [
      "Training a SVC using a training set size of 40. . .\n",
      "Trained model in 0.0010 seconds\n",
      "Made predictions in 0.0003 seconds.\n",
      "F1 score for training set: None.\n",
      "Made predictions in 0.0002 seconds.\n",
      "F1 score for test set: None.\n",
      "\n"
     ]
    }
   ],
   "source": [
    "def train_classifier(clf, X_train, y_train):\n",
    "    ''' Fits a classifier to the training data. '''\n",
    "    \n",
    "    # Start the clock, train the classifier, then stop the clock\n",
    "    start = time()\n",
    "    clf.fit(X_train, y_train)\n",
    "    end = time()\n",
    "    \n",
    "    # Print the results\n",
    "    print \"Trained model in {:.4f} seconds\".format(end - start)\n",
    "\n",
    "    \n",
    "def predict_labels(clf, features, target):\n",
    "    ''' Makes predictions using a fit classifier based on F1 score. '''\n",
    "    \n",
    "    # Start the clock, make predictions, then stop the clock\n",
    "    start = time()\n",
    "    y_pred = clf.predict(features)\n",
    "    end = time()\n",
    "    \n",
    "    # Print and return results\n",
    "    print \"Made predictions in {:.4f} seconds.\".format(end - start)\n",
    "    #return f1_score(target.values, y_pred, pos_label='yes')\n",
    "\n",
    "\n",
    "def train_predict(clf, X_train, y_train, X_test, y_test):\n",
    "    ''' Train and predict using a classifer based on F1 score. '''\n",
    "    \n",
    "    # Indicate the classifier and the training set size\n",
    "    print \"Training a {} using a training set size of {}. . .\".format(clf.__class__.__name__, len(X_train))\n",
    "    \n",
    "    # Train the classifier\n",
    "    train_classifier(clf, X_train, y_train)\n",
    "    \n",
    "    # Print the results of prediction for both training and testing\n",
    "    print \"F1 score for training set: {}.\".format(predict_labels(clf, X_train, y_train))\n",
    "    print \"F1 score for test set: {}.\\n\".format(predict_labels(clf, X_test, y_test))\n",
    "    \n",
    "train_predict(clf, X_train, y_train, X_test, y_test)"
   ]
  },
  {
   "cell_type": "code",
   "execution_count": null,
   "metadata": {
    "collapsed": true
   },
   "outputs": [],
   "source": []
  }
 ],
 "metadata": {
  "kernelspec": {
   "display_name": "Python 2",
   "language": "python",
   "name": "python2"
  },
  "language_info": {
   "codemirror_mode": {
    "name": "ipython",
    "version": 2
   },
   "file_extension": ".py",
   "mimetype": "text/x-python",
   "name": "python",
   "nbconvert_exporter": "python",
   "pygments_lexer": "ipython2",
   "version": "2.7.13"
  }
 },
 "nbformat": 4,
 "nbformat_minor": 2
}
